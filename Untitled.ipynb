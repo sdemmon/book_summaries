{
 "cells": [
  {
   "cell_type": "code",
   "execution_count": 1,
   "id": "231e5e70",
   "metadata": {},
   "outputs": [],
   "source": [
    "import numpy as np\n",
    "import pandas as pd\n",
    "import nltk\n",
    "import json\n",
    "import re\n",
    "import csv\n",
    "from tqdm import tqdm\n",
    "import matplotlib.pyplot as plt\n",
    "import seaborn as sns\n",
    "from collections import Counter"
   ]
  },
  {
   "cell_type": "code",
   "execution_count": 2,
   "id": "c141388b",
   "metadata": {},
   "outputs": [],
   "source": [
    "df = pd.read_csv('booksummaries.txt', sep='\\t',\n",
    "                 names=['id1', 'id2', 'title', 'author', 'year', 'genres', 'summary'],\n",
    "                 usecols=[2, 3, 5, 6], converters={'genres' : lambda s : (list(json.loads(s).values()) if s else None)})"
   ]
  },
  {
   "cell_type": "code",
   "execution_count": 3,
   "id": "a26e1284",
   "metadata": {},
   "outputs": [
    {
     "data": {
      "text/html": [
       "<div>\n",
       "<style scoped>\n",
       "    .dataframe tbody tr th:only-of-type {\n",
       "        vertical-align: middle;\n",
       "    }\n",
       "\n",
       "    .dataframe tbody tr th {\n",
       "        vertical-align: top;\n",
       "    }\n",
       "\n",
       "    .dataframe thead th {\n",
       "        text-align: right;\n",
       "    }\n",
       "</style>\n",
       "<table border=\"1\" class=\"dataframe\">\n",
       "  <thead>\n",
       "    <tr style=\"text-align: right;\">\n",
       "      <th></th>\n",
       "      <th>title</th>\n",
       "      <th>author</th>\n",
       "      <th>genres</th>\n",
       "      <th>summary</th>\n",
       "    </tr>\n",
       "  </thead>\n",
       "  <tbody>\n",
       "    <tr>\n",
       "      <th>0</th>\n",
       "      <td>Animal Farm</td>\n",
       "      <td>George Orwell</td>\n",
       "      <td>[Roman à clef, Satire, Children's literature, ...</td>\n",
       "      <td>Old Major, the old boar on the Manor Farm, ca...</td>\n",
       "    </tr>\n",
       "    <tr>\n",
       "      <th>1</th>\n",
       "      <td>A Clockwork Orange</td>\n",
       "      <td>Anthony Burgess</td>\n",
       "      <td>[Science Fiction, Novella, Speculative fiction...</td>\n",
       "      <td>Alex, a teenager living in near-future Englan...</td>\n",
       "    </tr>\n",
       "    <tr>\n",
       "      <th>2</th>\n",
       "      <td>The Plague</td>\n",
       "      <td>Albert Camus</td>\n",
       "      <td>[Existentialism, Fiction, Absurdist fiction, N...</td>\n",
       "      <td>The text of The Plague is divided into five p...</td>\n",
       "    </tr>\n",
       "    <tr>\n",
       "      <th>3</th>\n",
       "      <td>An Enquiry Concerning Human Understanding</td>\n",
       "      <td>David Hume</td>\n",
       "      <td>None</td>\n",
       "      <td>The argument of the Enquiry proceeds by a ser...</td>\n",
       "    </tr>\n",
       "    <tr>\n",
       "      <th>4</th>\n",
       "      <td>A Fire Upon the Deep</td>\n",
       "      <td>Vernor Vinge</td>\n",
       "      <td>[Hard science fiction, Science Fiction, Specul...</td>\n",
       "      <td>The novel posits that space around the Milky ...</td>\n",
       "    </tr>\n",
       "  </tbody>\n",
       "</table>\n",
       "</div>"
      ],
      "text/plain": [
       "                                       title           author  \\\n",
       "0                                Animal Farm    George Orwell   \n",
       "1                         A Clockwork Orange  Anthony Burgess   \n",
       "2                                 The Plague     Albert Camus   \n",
       "3  An Enquiry Concerning Human Understanding       David Hume   \n",
       "4                       A Fire Upon the Deep     Vernor Vinge   \n",
       "\n",
       "                                              genres  \\\n",
       "0  [Roman à clef, Satire, Children's literature, ...   \n",
       "1  [Science Fiction, Novella, Speculative fiction...   \n",
       "2  [Existentialism, Fiction, Absurdist fiction, N...   \n",
       "3                                               None   \n",
       "4  [Hard science fiction, Science Fiction, Specul...   \n",
       "\n",
       "                                             summary  \n",
       "0   Old Major, the old boar on the Manor Farm, ca...  \n",
       "1   Alex, a teenager living in near-future Englan...  \n",
       "2   The text of The Plague is divided into five p...  \n",
       "3   The argument of the Enquiry proceeds by a ser...  \n",
       "4   The novel posits that space around the Milky ...  "
      ]
     },
     "execution_count": 3,
     "metadata": {},
     "output_type": "execute_result"
    }
   ],
   "source": [
    "df.head()"
   ]
  },
  {
   "cell_type": "code",
   "execution_count": 4,
   "id": "de9e1222",
   "metadata": {},
   "outputs": [],
   "source": [
    "all_genres = []"
   ]
  },
  {
   "cell_type": "code",
   "execution_count": 5,
   "id": "2ca2c9dd",
   "metadata": {},
   "outputs": [],
   "source": [
    "genres_column = df['genres']"
   ]
  },
  {
   "cell_type": "code",
   "execution_count": null,
   "id": "4b1439f5",
   "metadata": {},
   "outputs": [],
   "source": [
    "genres_column.dropna()"
   ]
  },
  {
   "cell_type": "code",
   "execution_count": 17,
   "id": "9732f1c9",
   "metadata": {},
   "outputs": [],
   "source": [
    "# Iterate through each row to extract and split the list of genres\n",
    "all_genres = []\n",
    "# Iterate through each element in the 'genres_column'\n",
    "for genres_item in genres_column:\n",
    "    # Check if the element is a string\n",
    "    if isinstance(genres_item, str):\n",
    "        # Split the string by comma and extend the list of all genres\n",
    "        all_genres.extend([genre.strip() for genre in genres_item.split(',')])\n",
    "    # Check if the element is a list\n",
    "    elif isinstance(genres_item, list):\n",
    "        # Extend the list of all genres directly\n",
    "        all_genres.extend(genres_item)\n",
    "\n",
    "# Count the occurrences of each unique genre\n",
    "genre_counts = Counter(all_genres)"
   ]
  },
  {
   "cell_type": "code",
   "execution_count": 18,
   "id": "129756bd",
   "metadata": {},
   "outputs": [
    {
     "name": "stdout",
     "output_type": "stream",
     "text": [
      "Counter({'Fiction': 4747, 'Speculative fiction': 4314, 'Science Fiction': 2870, 'Novel': 2463, 'Fantasy': 2413, \"Children's literature\": 2122, 'Mystery': 1396, 'Young adult literature': 825, 'Suspense': 765, 'Crime Fiction': 753, 'Historical novel': 654, 'Thriller': 568, 'Horror': 511, 'Romance novel': 435, 'Historical fiction': 388, 'Detective fiction': 341, 'Adventure novel': 330, 'Non-fiction': 230, 'Alternate history': 226, 'Spy fiction': 190, 'Comedy': 145, 'Dystopia': 127, 'Autobiography': 124, 'Satire': 123, 'Gothic fiction': 112, 'Comic novel': 104, 'Biography': 102, 'Novella': 87, 'War novel': 87, 'Short story': 78, 'Autobiographical novel': 77, 'History': 73, 'Utopian and dystopian fiction': 67, 'Memoir': 67, 'High fantasy': 66, 'Humour': 62, 'Techno-thriller': 59, 'Apocalyptic and post-apocalyptic fiction': 56, 'Picture book': 49, 'Role-playing game': 48, 'Philosophy': 47, 'Steampunk': 47, 'Paranormal romance': 46, 'Bildungsroman': 42, 'Western': 41, 'Gamebook': 39, 'Reference': 38, 'Black comedy': 38, 'Urban fantasy': 37, 'Literary fiction': 36, 'Military science fiction': 33, 'Sociology': 31, 'Sword and sorcery': 31, 'Epistolary novel': 30, 'Whodunit': 30, 'Roman à clef': 29, 'Absurdist fiction': 29, 'Drama': 29, 'Poetry': 28, 'Psychological novel': 26, 'Hard science fiction': 25, 'Magic realism': 25, 'Hardboiled': 24, 'Western fiction': 23, 'Adventure': 23, 'Dark fantasy': 23, 'Science': 22, 'True crime': 22, 'Travel': 21, 'Psychology': 21, 'Time travel': 20, 'Picaresque novel': 18, 'Wuxia': 18, 'Historical fantasy': 18, 'Graphic novel': 17, 'Parallel novel': 17, 'Cyberpunk': 16, 'Business': 16, 'Religion': 16, 'Erotica': 16, 'Lost World': 16, 'Parody': 15, 'Chivalric romance': 15, 'Vampire fiction': 15, 'Scientific romance': 14, 'Economics': 13, 'Politics': 13, 'Künstlerroman': 12, 'Mathematics': 12, 'Biographical novel': 12, 'Space opera': 12, 'Cozy': 11, 'Travel literature': 11, 'Chick lit': 11, 'Inspirational': 10, 'Music': 10, 'Comic book': 10, 'Nature': 10, 'Science fantasy': 10, 'Regency romance': 10, 'Play': 9, 'Fairy tale': 9, 'Tragicomedy': 9, 'Existentialism': 8, 'Popular science': 8, 'Literary realism': 8, 'Self-help': 7, 'Comic science fiction': 7, 'Feminist science fiction': 7, 'Historical whodunnit': 7, 'Personal journal': 7, 'Postmodernism': 7, 'Gay novel': 7, 'Sports': 7, 'Transhumanism': 6, 'Post-holocaust': 6, 'Industrial novel': 6, 'Comics': 6, 'Fantasy of manners': 6, 'Historical romance': 6, 'Anthology': 6, 'Contemporary fantasy': 6, 'Spirituality': 5, 'Zombies in popular culture': 5, 'Planetary romance': 5, 'Treatise': 5, 'Comic fantasy': 5, 'Locked room mystery': 5, 'Soft science fiction': 5, 'Campus novel': 5, 'Social science fiction': 5, 'Essay': 5, 'Urban fiction': 5, 'Mashup': 5, 'Religious text': 4, 'Invasion literature': 4, 'Farce': 4, 'Sea story': 4, 'Anthropology': 4, 'Supernatural': 4, 'Conspiracy fiction': 4, 'Ghost story': 4, 'Social novel': 4, 'Zombie': 4, 'Coming of age': 4, 'Edisonade': 4, 'Subterranean fiction': 4, 'Heroic fantasy': 4, 'Encyclopedia': 4, 'Prose': 4, 'Catastrophic literature': 3, 'Non-fiction novel': 3, 'Ergodic literature': 3, 'Social sciences': 3, 'Social commentary': 3, 'Political philosophy': 3, 'Serial': 3, 'Dying Earth subgenre': 3, 'Polemic': 3, 'Photography': 3, 'Creative nonfiction': 3, 'Juvenile fantasy': 2, 'Albino bias': 2, 'Postcyberpunk': 2, 'Comedy of manners': 2, 'Morality play': 2, 'Prose poetry': 2, 'Literary criticism': 2, 'Naval adventure': 2, 'Transgender and transsexual fiction': 2, 'Sword and planet': 2, 'LGBT literature': 2, 'Foreign legion': 2, 'Robinsonade': 2, 'Romantic comedy': 2, 'Metaphysics': 2, 'Education': 2, 'Cookbook': 2, 'Military history': 2, 'Modernism': 2, 'Light novel': 2, 'Fairytale fantasy': 2, 'Biopunk': 2, 'Computer Science': 1, 'Social criticism': 1, 'Anti-war': 1, 'Human extinction': 1, 'First-person narrative': 1, 'New Weird': 1, 'Cabal': 1, 'Conspiracy': 1, 'School story': 1, 'English public-school stories': 1, \"Boys' school stories\": 1, 'Experimental literature': 1, 'Gay Themed': 1, 'Utopian fiction': 1, 'Future history': 1, 'Anti-nuclear': 1, 'Literary theory': 1, 'Elizabethan romance': 1, 'Pornography': 1, 'Georgian romance': 1, 'American Gothic Fiction': 1, 'Field guide': 1, 'Fable': 1, 'Bangsian fantasy': 1, 'Space western': 1, 'Fantastique': 1, 'Youth': 1, 'Medieval romance': 1, 'Bit Lit': 1, 'Collage': 1, 'Superhero fiction': 1, 'Marketing': 1, 'Colonial United States romance': 1, 'Low fantasy': 1, 'Police procedural': 1, 'Indian chick lit': 1, 'Autobiographical comics': 1, 'Fictional crossover': 1, 'Popular culture': 1, 'Neuroscience': 1, 'New York Times Best Seller list': 1, 'Epic Science Fiction and Fantasy': 1, 'Alien invasion': 1, 'Pastiche': 1})\n"
     ]
    }
   ],
   "source": [
    "print(genre_counts)"
   ]
  },
  {
   "cell_type": "code",
   "execution_count": 32,
   "id": "525c0214",
   "metadata": {},
   "outputs": [
    {
     "name": "stdout",
     "output_type": "stream",
     "text": [
      "Fiction                4747\n",
      "Speculative fiction    4314\n",
      "Science Fiction        2870\n",
      "Novel                  2463\n",
      "Fantasy                2413\n",
      "                       ... \n",
      "Fable                     1\n",
      "Bangsian fantasy          1\n",
      "Space western             1\n",
      "Fantastique               1\n",
      "Pastiche                  1\n",
      "Length: 227, dtype: int64\n"
     ]
    }
   ],
   "source": [
    "all_genres_series = pd.Series(all_genres)\n",
    "genre_counts = all_genres_series.value_counts()\n",
    "\n",
    "# Now you can use genre_counts as desired\n",
    "print(genre_counts)"
   ]
  },
  {
   "cell_type": "code",
   "execution_count": 40,
   "id": "2cc3d11d",
   "metadata": {},
   "outputs": [],
   "source": [
    "valid_genres = [#'Speculative fiction',\n",
    "                'Science Fiction','Crime Fiction','Non-fiction','Children\\'s literature',\n",
    "                'Fantasy', 'Mystery', 'Suspense', 'Young adult literature']"
   ]
  },
  {
   "cell_type": "code",
   "execution_count": 51,
   "id": "8541e484",
   "metadata": {},
   "outputs": [
    {
     "data": {
      "text/html": [
       "<div>\n",
       "<style scoped>\n",
       "    .dataframe tbody tr th:only-of-type {\n",
       "        vertical-align: middle;\n",
       "    }\n",
       "\n",
       "    .dataframe tbody tr th {\n",
       "        vertical-align: top;\n",
       "    }\n",
       "\n",
       "    .dataframe thead th {\n",
       "        text-align: right;\n",
       "    }\n",
       "</style>\n",
       "<table border=\"1\" class=\"dataframe\">\n",
       "  <thead>\n",
       "    <tr style=\"text-align: right;\">\n",
       "      <th></th>\n",
       "      <th>title</th>\n",
       "      <th>author</th>\n",
       "      <th>summary</th>\n",
       "      <th>genre</th>\n",
       "    </tr>\n",
       "  </thead>\n",
       "  <tbody>\n",
       "    <tr>\n",
       "      <th>0</th>\n",
       "      <td>Animal Farm</td>\n",
       "      <td>George Orwell</td>\n",
       "      <td>Old Major, the old boar on the Manor Farm, ca...</td>\n",
       "      <td>Children's literature</td>\n",
       "    </tr>\n",
       "    <tr>\n",
       "      <th>1</th>\n",
       "      <td>A Clockwork Orange</td>\n",
       "      <td>Anthony Burgess</td>\n",
       "      <td>Alex, a teenager living in near-future Englan...</td>\n",
       "      <td>Science Fiction</td>\n",
       "    </tr>\n",
       "    <tr>\n",
       "      <th>2</th>\n",
       "      <td>A Fire Upon the Deep</td>\n",
       "      <td>Vernor Vinge</td>\n",
       "      <td>The novel posits that space around the Milky ...</td>\n",
       "      <td>Science Fiction</td>\n",
       "    </tr>\n",
       "    <tr>\n",
       "      <th>3</th>\n",
       "      <td>A Fire Upon the Deep</td>\n",
       "      <td>Vernor Vinge</td>\n",
       "      <td>The novel posits that space around the Milky ...</td>\n",
       "      <td>Fantasy</td>\n",
       "    </tr>\n",
       "    <tr>\n",
       "      <th>4</th>\n",
       "      <td>A Wizard of Earthsea</td>\n",
       "      <td>Ursula K. Le Guin</td>\n",
       "      <td>Ged is a young boy on Gont, one of the larger...</td>\n",
       "      <td>Children's literature</td>\n",
       "    </tr>\n",
       "    <tr>\n",
       "      <th>...</th>\n",
       "      <td>...</td>\n",
       "      <td>...</td>\n",
       "      <td>...</td>\n",
       "      <td>...</td>\n",
       "    </tr>\n",
       "    <tr>\n",
       "      <th>11369</th>\n",
       "      <td>Heaven</td>\n",
       "      <td>V. C. Andrews</td>\n",
       "      <td>Heaven Leigh Casteel is a fourteen year old g...</td>\n",
       "      <td>Young adult literature</td>\n",
       "    </tr>\n",
       "    <tr>\n",
       "      <th>11370</th>\n",
       "      <td>Dark Angel</td>\n",
       "      <td>V. C. Andrews</td>\n",
       "      <td>After the events of Heaven (the first book in...</td>\n",
       "      <td>Young adult literature</td>\n",
       "    </tr>\n",
       "    <tr>\n",
       "      <th>11371</th>\n",
       "      <td>Gates of Paradise</td>\n",
       "      <td>V. C. Andrews</td>\n",
       "      <td>A novel about Annie Stonewall, the daughter o...</td>\n",
       "      <td>Young adult literature</td>\n",
       "    </tr>\n",
       "    <tr>\n",
       "      <th>11372</th>\n",
       "      <td>The Third Lynx</td>\n",
       "      <td>Timothy Zahn</td>\n",
       "      <td>The story starts with former government agent...</td>\n",
       "      <td>Science Fiction</td>\n",
       "    </tr>\n",
       "    <tr>\n",
       "      <th>11373</th>\n",
       "      <td>Remote Control</td>\n",
       "      <td>Andy McNab</td>\n",
       "      <td>The series follows the character of Nick Ston...</td>\n",
       "      <td>Suspense</td>\n",
       "    </tr>\n",
       "  </tbody>\n",
       "</table>\n",
       "<p>11374 rows × 4 columns</p>\n",
       "</div>"
      ],
      "text/plain": [
       "                      title             author  \\\n",
       "0               Animal Farm      George Orwell   \n",
       "1        A Clockwork Orange    Anthony Burgess   \n",
       "2      A Fire Upon the Deep       Vernor Vinge   \n",
       "3      A Fire Upon the Deep       Vernor Vinge   \n",
       "4      A Wizard of Earthsea  Ursula K. Le Guin   \n",
       "...                     ...                ...   \n",
       "11369                Heaven      V. C. Andrews   \n",
       "11370            Dark Angel      V. C. Andrews   \n",
       "11371     Gates of Paradise      V. C. Andrews   \n",
       "11372        The Third Lynx       Timothy Zahn   \n",
       "11373        Remote Control         Andy McNab   \n",
       "\n",
       "                                                 summary  \\\n",
       "0       Old Major, the old boar on the Manor Farm, ca...   \n",
       "1       Alex, a teenager living in near-future Englan...   \n",
       "2       The novel posits that space around the Milky ...   \n",
       "3       The novel posits that space around the Milky ...   \n",
       "4       Ged is a young boy on Gont, one of the larger...   \n",
       "...                                                  ...   \n",
       "11369   Heaven Leigh Casteel is a fourteen year old g...   \n",
       "11370   After the events of Heaven (the first book in...   \n",
       "11371   A novel about Annie Stonewall, the daughter o...   \n",
       "11372   The story starts with former government agent...   \n",
       "11373   The series follows the character of Nick Ston...   \n",
       "\n",
       "                        genre  \n",
       "0       Children's literature  \n",
       "1             Science Fiction  \n",
       "2             Science Fiction  \n",
       "3                     Fantasy  \n",
       "4       Children's literature  \n",
       "...                       ...  \n",
       "11369  Young adult literature  \n",
       "11370  Young adult literature  \n",
       "11371  Young adult literature  \n",
       "11372         Science Fiction  \n",
       "11373                Suspense  \n",
       "\n",
       "[11374 rows x 4 columns]"
      ]
     },
     "execution_count": 51,
     "metadata": {},
     "output_type": "execute_result"
    }
   ],
   "source": [
    "# Iterate through each row to extract and split the list of genres\n",
    "book_list = []\n",
    "# Iterate through each element in the 'genres_column'\n",
    "\n",
    "for i, row in df.iterrows():\n",
    "    if row[\"genres\"]:\n",
    "        for genre in valid_genres:\n",
    "            new_row={\n",
    "                \"title\": row[\"title\"],\n",
    "                \"author\": row[\"author\"],\n",
    "                \"summary\": row[\"summary\"]\n",
    "                }\n",
    "            genre_list=row[\"genres\"]\n",
    "            if genre in genre_list:\n",
    "                new_row[\"genre\"]=genre\n",
    "                book_list.append(new_row)\n",
    "book_df = pd.DataFrame(book_list)\n",
    "book_df\n",
    "#     # Check if the element is a string\n",
    "#     if isinstance(genres_item, str):\n",
    "#         # Split the string by comma and extend the list of all genres\n",
    "#         all_genres.extend([genre.strip() for genre in genres_item.split(',')])\n",
    "#     # Check if the element is a list\n",
    "#     elif isinstance(genres_item, list):\n",
    "#         # Extend the list of all genres directly\n",
    "#         all_genres.extend(genres_item)"
   ]
  },
  {
   "cell_type": "code",
   "execution_count": 52,
   "id": "bc66af8b",
   "metadata": {},
   "outputs": [
    {
     "data": {
      "text/plain": [
       "Science Fiction           2870\n",
       "Fantasy                   2413\n",
       "Children's literature     2122\n",
       "Mystery                   1396\n",
       "Young adult literature     825\n",
       "Suspense                   765\n",
       "Crime Fiction              753\n",
       "Non-fiction                230\n",
       "Name: genre, dtype: int64"
      ]
     },
     "execution_count": 52,
     "metadata": {},
     "output_type": "execute_result"
    }
   ],
   "source": [
    "book_df[\"genre\"].value_counts()"
   ]
  },
  {
   "cell_type": "code",
   "execution_count": 50,
   "id": "be18b8ef",
   "metadata": {},
   "outputs": [
    {
     "data": {
      "text/plain": [
       "8025"
      ]
     },
     "execution_count": 50,
     "metadata": {},
     "output_type": "execute_result"
    }
   ],
   "source": [
    "book_df[\"title\"].nunique()"
   ]
  },
  {
   "cell_type": "code",
   "execution_count": 55,
   "id": "ff7cbe48",
   "metadata": {},
   "outputs": [
    {
     "data": {
      "image/png": "[encoded data removed]",
      "text/plain": [
       "<Figure size 1000x500 with 1 Axes>"
      ]
     },
     "metadata": {},
     "output_type": "display_data"
    }
   ],
   "source": [
    "plt.figure(figsize=(10,5))\n",
    "sns.countplot(data=book_df, order=book_df[\"genre\"].value_counts().index, y='genre')\n",
    "plt.title(\"Counts per Genre\")\n",
    "plt.show()"
   ]
  },
  {
   "cell_type": "code",
   "execution_count": 61,
   "id": "1ae30616",
   "metadata": {},
   "outputs": [],
   "source": [
    "from sklearn.feature_extraction.text import TfidfVectorizer\n",
    "from sklearn.preprocessing import MultiLabelBinarizer\n",
    "from scipy.sparse import hstack\n",
    "\n",
    "tfidf = TfidfVectorizer(stop_words='english')\n",
    "book_df['summary'] = book_df['summary'].fillna('')\n",
    "book_df['summary_genre'] = book_df['summary'] + ' ' + book_df['genre']\n",
    "\n",
    "tfidf_matrix = tfidf.fit_transform(book_df['summary_genre'])\n",
    "\n",
    "mlb = MultiLabelBinarizer()\n",
    "genre_matrix = mlb.fit_transform(book_df['genre'])\n",
    "tfidf_genre_matrix = hstack((tfidf_matrix, genre_matrix))\n",
    "\n",
    "from sklearn.metrics.pairwise import linear_kernel\n",
    "cosine_similarity = linear_kernel(tfidf_genre_matrix)"
   ]
  },
  {
   "cell_type": "code",
   "execution_count": 62,
   "id": "00be2480",
   "metadata": {},
   "outputs": [],
   "source": [
    "indices = pd.Series(book_df.index, index=book_df['title']).drop_duplicates()\n",
    "\n",
    "def recommend(title, similarity_matrix, topk=10):\n",
    "    book_index = indices[title]\n",
    "    # enumerate here adds index of book being referenced by similarity score, \n",
    "    # allows reverse lookup once sorted by similarity score\n",
    "    similarity_scores = list(enumerate(similarity_matrix[book_index]))\n",
    "    similarity_scores = sorted(similarity_scores, key=lambda x:x[1], reverse=True)\n",
    "\n",
    "    top_scores = similarity_scores[1:topk+1] # index 0 should be original \n",
    "    recommendation_indices = [i[0] for i in top_scores]\n",
    "    return book_df['title'].iloc[recommendation_indices]"
   ]
  },
  {
   "cell_type": "code",
   "execution_count": 63,
   "id": "cd7cd6e0",
   "metadata": {},
   "outputs": [
    {
     "data": {
      "text/html": [
       "<div>\n",
       "<style scoped>\n",
       "    .dataframe tbody tr th:only-of-type {\n",
       "        vertical-align: middle;\n",
       "    }\n",
       "\n",
       "    .dataframe tbody tr th {\n",
       "        vertical-align: top;\n",
       "    }\n",
       "\n",
       "    .dataframe thead th {\n",
       "        text-align: right;\n",
       "    }\n",
       "</style>\n",
       "<table border=\"1\" class=\"dataframe\">\n",
       "  <thead>\n",
       "    <tr style=\"text-align: right;\">\n",
       "      <th></th>\n",
       "      <th>title</th>\n",
       "      <th>author</th>\n",
       "      <th>summary</th>\n",
       "      <th>genre</th>\n",
       "      <th>summary_genre</th>\n",
       "    </tr>\n",
       "  </thead>\n",
       "  <tbody>\n",
       "    <tr>\n",
       "      <th>5383</th>\n",
       "      <td>Freddy Goes to Florida</td>\n",
       "      <td>Walter R. Brooks</td>\n",
       "      <td>Freddy was an intelligent pig that lived on t...</td>\n",
       "      <td>Children's literature</td>\n",
       "      <td>Freddy was an intelligent pig that lived on t...</td>\n",
       "    </tr>\n",
       "    <tr>\n",
       "      <th>2885</th>\n",
       "      <td>Arctic Adventure</td>\n",
       "      <td>Willard Price</td>\n",
       "      <td>Hal and Roger Hunt go to Greenland to capture...</td>\n",
       "      <td>Children's literature</td>\n",
       "      <td>Hal and Roger Hunt go to Greenland to capture...</td>\n",
       "    </tr>\n",
       "    <tr>\n",
       "      <th>5441</th>\n",
       "      <td>Freddy Goes to the North Pole</td>\n",
       "      <td>Walter R. Brooks</td>\n",
       "      <td>In the beginning, Freddy had the idea to esta...</td>\n",
       "      <td>Children's literature</td>\n",
       "      <td>In the beginning, Freddy had the idea to esta...</td>\n",
       "    </tr>\n",
       "    <tr>\n",
       "      <th>4949</th>\n",
       "      <td>The True Story of the Three Little Pigs</td>\n",
       "      <td>Lane Smith</td>\n",
       "      <td>The book tries to show that the Wolf from The...</td>\n",
       "      <td>Children's literature</td>\n",
       "      <td>The book tries to show that the Wolf from The...</td>\n",
       "    </tr>\n",
       "    <tr>\n",
       "      <th>6574</th>\n",
       "      <td>The Animals of Farthing Wood</td>\n",
       "      <td>Colin Dann</td>\n",
       "      <td>The humans have dug up the heath that surroun...</td>\n",
       "      <td>Children's literature</td>\n",
       "      <td>The humans have dug up the heath that surroun...</td>\n",
       "    </tr>\n",
       "    <tr>\n",
       "      <th>4304</th>\n",
       "      <td>Punk Farm</td>\n",
       "      <td>Jarrett Krosoczka</td>\n",
       "      <td>Krosoczka's book tells the story of five farm...</td>\n",
       "      <td>Children's literature</td>\n",
       "      <td>Krosoczka's book tells the story of five farm...</td>\n",
       "    </tr>\n",
       "    <tr>\n",
       "      <th>10595</th>\n",
       "      <td>Freddy the Politician</td>\n",
       "      <td>Walter R. Brooks</td>\n",
       "      <td>To encourage farmer Bean to go on his vacatio...</td>\n",
       "      <td>Children's literature</td>\n",
       "      <td>To encourage farmer Bean to go on his vacatio...</td>\n",
       "    </tr>\n",
       "    <tr>\n",
       "      <th>5473</th>\n",
       "      <td>Rabbit Hill</td>\n",
       "      <td>Robert Lawson</td>\n",
       "      <td>The story takes place in a place called Rabbi...</td>\n",
       "      <td>Children's literature</td>\n",
       "      <td>The story takes place in a place called Rabbi...</td>\n",
       "    </tr>\n",
       "    <tr>\n",
       "      <th>10704</th>\n",
       "      <td>Zoobreak</td>\n",
       "      <td>Gordon Korman</td>\n",
       "      <td>Savannah has lost her pet monkey named Cleopa...</td>\n",
       "      <td>Children's literature</td>\n",
       "      <td>Savannah has lost her pet monkey named Cleopa...</td>\n",
       "    </tr>\n",
       "    <tr>\n",
       "      <th>1578</th>\n",
       "      <td>George's Marvelous Medicine</td>\n",
       "      <td>Roald Dahl</td>\n",
       "      <td>George is an 8 year-old boy who lives in a fa...</td>\n",
       "      <td>Children's literature</td>\n",
       "      <td>George is an 8 year-old boy who lives in a fa...</td>\n",
       "    </tr>\n",
       "  </tbody>\n",
       "</table>\n",
       "</div>"
      ],
      "text/plain": [
       "                                         title             author  \\\n",
       "5383                    Freddy Goes to Florida   Walter R. Brooks   \n",
       "2885                          Arctic Adventure      Willard Price   \n",
       "5441             Freddy Goes to the North Pole   Walter R. Brooks   \n",
       "4949   The True Story of the Three Little Pigs         Lane Smith   \n",
       "6574              The Animals of Farthing Wood         Colin Dann   \n",
       "4304                                 Punk Farm  Jarrett Krosoczka   \n",
       "10595                    Freddy the Politician   Walter R. Brooks   \n",
       "5473                               Rabbit Hill      Robert Lawson   \n",
       "10704                                 Zoobreak      Gordon Korman   \n",
       "1578               George's Marvelous Medicine         Roald Dahl   \n",
       "\n",
       "                                                 summary  \\\n",
       "5383    Freddy was an intelligent pig that lived on t...   \n",
       "2885    Hal and Roger Hunt go to Greenland to capture...   \n",
       "5441    In the beginning, Freddy had the idea to esta...   \n",
       "4949    The book tries to show that the Wolf from The...   \n",
       "6574    The humans have dug up the heath that surroun...   \n",
       "4304    Krosoczka's book tells the story of five farm...   \n",
       "10595   To encourage farmer Bean to go on his vacatio...   \n",
       "5473    The story takes place in a place called Rabbi...   \n",
       "10704   Savannah has lost her pet monkey named Cleopa...   \n",
       "1578    George is an 8 year-old boy who lives in a fa...   \n",
       "\n",
       "                       genre  \\\n",
       "5383   Children's literature   \n",
       "2885   Children's literature   \n",
       "5441   Children's literature   \n",
       "4949   Children's literature   \n",
       "6574   Children's literature   \n",
       "4304   Children's literature   \n",
       "10595  Children's literature   \n",
       "5473   Children's literature   \n",
       "10704  Children's literature   \n",
       "1578   Children's literature   \n",
       "\n",
       "                                           summary_genre  \n",
       "5383    Freddy was an intelligent pig that lived on t...  \n",
       "2885    Hal and Roger Hunt go to Greenland to capture...  \n",
       "5441    In the beginning, Freddy had the idea to esta...  \n",
       "4949    The book tries to show that the Wolf from The...  \n",
       "6574    The humans have dug up the heath that surroun...  \n",
       "4304    Krosoczka's book tells the story of five farm...  \n",
       "10595   To encourage farmer Bean to go on his vacatio...  \n",
       "5473    The story takes place in a place called Rabbi...  \n",
       "10704   Savannah has lost her pet monkey named Cleopa...  \n",
       "1578    George is an 8 year-old boy who lives in a fa...  "
      ]
     },
     "execution_count": 63,
     "metadata": {},
     "output_type": "execute_result"
    }
   ],
   "source": [
    "recs = recommend('Animal Farm', cosine_similarity)\n",
    "book_df.iloc[recs.index]"
   ]
  },
  {
   "cell_type": "code",
   "execution_count": 66,
   "id": "4b22ebc4",
   "metadata": {},
   "outputs": [
    {
     "name": "stdout",
     "output_type": "stream",
     "text": [
      "Training dataset = 9099\n",
      "Testing dataset = 2275\n"
     ]
    },
    {
     "data": {
      "image/png": "[encoded data removed]",
      "text/plain": [
       "<Figure size 2500x800 with 2 Axes>"
      ]
     },
     "metadata": {},
     "output_type": "display_data"
    }
   ],
   "source": [
    "from sklearn.model_selection import train_test_split\n",
    "\n",
    "# Splitting the data into training and testing sets\n",
    "train, test = train_test_split(book_df, random_state=42, test_size=0.2, shuffle=True, stratify=book_df['genre'])\n",
    "\n",
    "# Extracting features and labels for training and testing\n",
    "train_x = train.summary\n",
    "train_y = train.genre\n",
    "test_x = test.summary.to_numpy()\n",
    "test_y = test.genre.to_numpy()\n",
    "\n",
    "# Printing the size of the training and testing datasets\n",
    "print(\"Training dataset = {}\".format(len(train_x)))\n",
    "print(\"Testing dataset = {}\".format(len(test_x)))\n",
    "\n",
    "# Visualizing the distribution of genres in the training and testing datasets\n",
    "colors=['tab:orange', 'tab:green', 'tab:blue', 'tab:brown', 'tab:pink', 'tab:purple','tab:red', 'tab:gray', 'tab:olive']\n",
    "plt.figure(figsize=(25,8))\n",
    "plt.subplot(1,2,1).set_title(\"Train Dataset-Counts per Genre\")\n",
    "train.groupby('genre').size().sort_values(ascending=True).plot(kind='barh', color=colors,ax=plt.gca())\n",
    "plt.subplot(1,2,2).set_title(\"Test Dataset-Counts per Genre\")\n",
    "test.groupby('genre').size().sort_values(ascending=True).plot(kind='barh', color=colors,ax=plt.gca())\n",
    "plt.show()\n",
    "from sklearn.pipeline import Pipeline"
   ]
  },
  {
   "cell_type": "code",
   "execution_count": 73,
   "id": "d4094c50",
   "metadata": {},
   "outputs": [
    {
     "name": "stdout",
     "output_type": "stream",
     "text": [
      "Model has been saved as ./NB_model.sav\n",
      "#### Model Evaluation on Test Data: ####\n",
      "Train Accuracy : 0.582\n",
      "Test Accuracy : 0.411\n"
     ]
    }
   ],
   "source": [
    "from sklearn.pipeline import Pipeline\n",
    "from sklearn.multiclass import OneVsRestClassifier\n",
    "from sklearn.naive_bayes import MultinomialNB\n",
    "import joblib\n",
    "# Define and train your model using the training data\n",
    "NB_pipeline = Pipeline([\n",
    "                ('tfidf', TfidfVectorizer(stop_words='english', ngram_range=(1,1), use_idf=True)),\n",
    "                ('clf', OneVsRestClassifier(MultinomialNB())),\n",
    "            ])\n",
    "NB_pipeline.fit(train_x, train_y)\n",
    "\n",
    "# Save the trained model\n",
    "filename = \"./NB_model.sav\"\n",
    "joblib.dump(NB_pipeline, filename)\n",
    "print(\"Model has been saved as {}\".format(filename))\n",
    "\n",
    "# Evaluate the model on the testing data\n",
    "print(\"#### Model Evaluation on Test Data: ####\")\n",
    "print('Train Accuracy : %.3f'%NB_pipeline.score(train_x, train_y))\n",
    "print('Test Accuracy : %.3f'%NB_pipeline.score(test_x, test_y))"
   ]
  },
  {
   "cell_type": "code",
   "execution_count": null,
   "id": "fbdb463a",
   "metadata": {},
   "outputs": [],
   "source": [
    "##merge a few categories "
   ]
  },
  {
   "cell_type": "code",
   "execution_count": 25,
   "id": "c62adcb4",
   "metadata": {},
   "outputs": [
    {
     "data": {
      "text/plain": [
       "<function list.count(value, /)>"
      ]
     },
     "execution_count": 25,
     "metadata": {},
     "output_type": "execute_result"
    }
   ],
   "source": [
    "##Bin genres into 10 types (..) with strings that contain \n",
    "##fantasy = '\\WFantasy\\W'\n",
    "##"
   ]
  },
  {
   "cell_type": "code",
   "execution_count": null,
   "id": "298d1cbc",
   "metadata": {},
   "outputs": [],
   "source": [
    "for genres_item in genres_column:\n",
    "    if isinstance(genres_item, str):\n",
    "        # Split the string by comma and extend the list of all genres\n",
    "        all_genres.extend([genre.strip() for genre in genres_item.split(',')])\n",
    "        if "
   ]
  }
 ],
 "metadata": {
  "kernelspec": {
   "display_name": "Python 3 (ipykernel)",
   "language": "python",
   "name": "python3"
  },
  "language_info": {
   "codemirror_mode": {
    "name": "ipython",
    "version": 3
   },
   "file_extension": ".py",
   "mimetype": "text/x-python",
   "name": "python",
   "nbconvert_exporter": "python",
   "pygments_lexer": "ipython3",
   "version": "3.11.4"
  }
 },
 "nbformat": 4,
 "nbformat_minor": 5
}
